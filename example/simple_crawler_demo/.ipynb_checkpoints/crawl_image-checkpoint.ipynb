{
 "cells": [
  {
   "cell_type": "code",
   "execution_count": 2,
   "metadata": {},
   "outputs": [
    {
     "name": "stdout",
     "output_type": "stream",
     "text": [
      "Downloading: 0-untitled-1_93.png\n",
      "Downloading: 1-untitled-1_73.png\n",
      "Downloading: 2-untitled-1_320.png\n",
      "Downloading: 3-untitled-1_280.png\n",
      "Downloading: 4-untitled-1_278.png\n",
      "Downloading: 5-untitled-1_277.png\n",
      "Downloading: 6-untitled-1_141.png\n",
      "Downloading: 7-untitled-1_76.png\n",
      "Downloading: 8-untitled-1_322.png\n",
      "Downloading: 9-untitled-1_321.png\n",
      "Downloading: 10-untitled-1_307.png\n",
      "Downloading: 11-untitled-1_306.png\n",
      "Downloading: 12-untitled-1_278.png\n",
      "Downloading: 13-untitled-1_200.png\n",
      "Downloading: 14-untitled-1_201.png\n",
      "Downloading: 15-untitled-1_11.png\n",
      "Downloading: 16-nu.png\n",
      "Downloading: 17-untitled-1_10.png\n",
      "Downloading: 18-untitled-1_9.png\n",
      "Downloading: 19-untitled-1_8.png\n",
      "Downloading: 20-untitled-1_7.png\n",
      "Downloading: 21-untitled-1_6.png\n",
      "Downloading: 22-global_work.jpg\n",
      "Downloading: 23-untitled-1_5.png\n",
      "Downloading: 24-untitled-1_2.png\n",
      "Downloading: 25-untitled-1_1.png\n",
      "Downloading: 26-untitled-1_0.png\n",
      "Downloading: 27-untitled-1_306.png\n",
      "Downloading: 28-untitled-1_305.png\n",
      "Downloading: 29-untitled-1_304.png\n",
      "Downloading: 30-untitled-1_303.png\n",
      "Downloading: 31-untitled-1_301.png\n",
      "完成\n"
     ]
    }
   ],
   "source": [
    "#下載指定網頁中所有圖片檔\n",
    "import os\n",
    "from bs4 import BeautifulSoup\n",
    "from urllib.request import urlopen\n",
    "\n",
    "#取得頁面HTML\n",
    "response = urlopen(\"https://www.brandsoftheworld.com/logos/countries/tw\")\n",
    "html = response.read().decode(\"utf-8\")\n",
    "#關閉連線\n",
    "response.close()\n",
    "#用BeautifulSoup分析目標圖片\n",
    "soup = BeautifulSoup(html, \"html.parser\")\n",
    "images = soup.select(\"img.image\")\n",
    "\n",
    "#分別下載每張圖片\n",
    "for i in range(len(images)):\n",
    "    #從img標籤取得圖片網址\n",
    "    url = images[i].attrs['src']\n",
    "    #分析圖片檔名與副檔名\n",
    "    filename = url.split('/')[-1].split('?')[0]\n",
    "    print(\"Downloading: \" + str(i) + \"-\"  + filename)\n",
    "    err = 0\n",
    "    while err < 3:\n",
    "        try:\n",
    "            #下載圖片\n",
    "            response = urlopen(url)\n",
    "            img_bytes = response.read()\n",
    "            #指定檔名\n",
    "            pic_path = \"./\" + str(i) + \"-\" + filename\n",
    "            #寫入檔案\n",
    "            f = open(pic_path, \"wb\")\n",
    "            f.write(img_bytes)\n",
    "            f.close()\n",
    "            #關閉連線\n",
    "            response.close()\n",
    "            break\n",
    "        except:\n",
    "            print(\"Connection error, try again...\")\n",
    "            err += 1\n",
    "            continue\n",
    "print('完成')"
   ]
  }
 ],
 "metadata": {
  "kernelspec": {
   "display_name": "Python 3",
   "language": "python",
   "name": "python3"
  },
  "language_info": {
   "codemirror_mode": {
    "name": "ipython",
    "version": 3
   },
   "file_extension": ".py",
   "mimetype": "text/x-python",
   "name": "python",
   "nbconvert_exporter": "python",
   "pygments_lexer": "ipython3",
   "version": "3.5.2"
  }
 },
 "nbformat": 4,
 "nbformat_minor": 2
}
