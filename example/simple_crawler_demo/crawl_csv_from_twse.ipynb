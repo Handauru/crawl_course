{
 "cells": [
  {
   "cell_type": "code",
   "execution_count": 26,
   "metadata": {},
   "outputs": [],
   "source": [
    "#使用TWSE提供的下載CSV連結來獲取檔案\n",
    "\n",
    "from urllib.request import urlopen\n",
    "\n",
    "#開啟URL\n",
    "response = urlopen(\"http://www.twse.com.tw/exchangeReport/STOCK_DAY?response=csv&date=20170901&stockNo=2330\")\n",
    "html = response.read()\n",
    "\n",
    "#指定檔案路徑\n",
    "file_path = \"./STOCK_DAY.csv\"\n",
    "\n",
    "#寫入檔案\n",
    "f = open(file_path, \"wb\")\n",
    "f.write(html)\n",
    "f.close()\n",
    "\n",
    "#關閉連線\n",
    "response.close()"
   ]
  }
 ],
 "metadata": {
  "kernelspec": {
   "display_name": "Python 3",
   "language": "python",
   "name": "python3"
  },
  "language_info": {
   "codemirror_mode": {
    "name": "ipython",
    "version": 3
   },
   "file_extension": ".py",
   "mimetype": "text/x-python",
   "name": "python",
   "nbconvert_exporter": "python",
   "pygments_lexer": "ipython3",
   "version": "3.5.2"
  }
 },
 "nbformat": 4,
 "nbformat_minor": 2
}
