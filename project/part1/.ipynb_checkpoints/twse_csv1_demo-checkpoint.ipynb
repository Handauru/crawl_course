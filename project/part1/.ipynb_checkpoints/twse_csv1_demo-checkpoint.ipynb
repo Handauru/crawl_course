{
 "cells": [
  {
   "cell_type": "code",
   "execution_count": 3,
   "metadata": {},
   "outputs": [
    {
     "ename": "SyntaxError",
     "evalue": "'return' outside function (<ipython-input-3-18e453af431d>, line 20)",
     "output_type": "error",
     "traceback": [
      "\u001b[0;36m  File \u001b[0;32m\"<ipython-input-3-18e453af431d>\"\u001b[0;36m, line \u001b[0;32m20\u001b[0m\n\u001b[0;31m    return\u001b[0m\n\u001b[0m    ^\u001b[0m\n\u001b[0;31mSyntaxError\u001b[0m\u001b[0;31m:\u001b[0m 'return' outside function\n"
     ]
    }
   ],
   "source": [
    "import requests\n",
    "import json\n",
    "import pandas as pd\n",
    "from time import sleep\n",
    "\n",
    "err_count = 0\n",
    "while err_count < 3:\n",
    "    try:\n",
    "        #小心requrest太過頻繁IP會被對方封鎖\n",
    "        res1 = requests.get('http://www.twse.com.tw/exchangeReport/STOCK_DAY?response=json&date=20170901&stockNo=2330')\n",
    "        sleep(5)\n",
    "        res2 = requests.get('http://www.twse.com.tw/exchangeReport/STOCK_DAY?response=json&date=20171001&stockNo=2330')\n",
    "        break\n",
    "    except:\n",
    "        sleep(5)\n",
    "        err_count += 1\n",
    "        continue\n",
    "if err_count == 3:\n",
    "    print('連線失敗')\n",
    "\n",
    "json1 = res1.json()\n",
    "json2 = res2.json()"
   ]
  },
  {
   "cell_type": "code",
   "execution_count": null,
   "metadata": {},
   "outputs": [],
   "source": [
    "header = json1['fields']\n",
    "header"
   ]
  },
  {
   "cell_type": "code",
   "execution_count": null,
   "metadata": {},
   "outputs": [],
   "source": [
    "data = json1['data']\n",
    "data.extend(json2['data'])\n",
    "len(data)"
   ]
  },
  {
   "cell_type": "code",
   "execution_count": null,
   "metadata": {},
   "outputs": [],
   "source": [
    "df = pd.DataFrame.from_records(data, columns=header)\n",
    "df.sort_index(ascending=False).head()"
   ]
  },
  {
   "cell_type": "code",
   "execution_count": null,
   "metadata": {},
   "outputs": [],
   "source": [
    "#日期轉換西元年、如使用Jupyter重複執行這裡會讓日期溢位\n",
    "for i, row in df.iterrows():\n",
    "    #print(row[0])\n",
    "    strDate = row[0]\n",
    "    DateArr = strDate.split(\"/\")\n",
    "    DateArr[0] = str(int(DateArr[0])+1911)\n",
    "    DateArr[1] = str(int(DateArr[1]))\n",
    "    DateArr[2] = str(int(DateArr[2]))\n",
    "    #df.set_value(i,'日期','/'.join(DateArr))\n",
    "    df.loc[i, '日期'] = '/'.join(DateArr)\n",
    "df.sort_index(ascending=False).head()"
   ]
  },
  {
   "cell_type": "code",
   "execution_count": null,
   "metadata": {},
   "outputs": [],
   "source": [
    "df.to_csv('../data/fp_demo.csv', sep=',', encoding='utf-8-sig', index=False)"
   ]
  },
  {
   "cell_type": "code",
   "execution_count": null,
   "metadata": {},
   "outputs": [],
   "source": [
    "import sqlite3 as sql\n",
    "\n",
    "#連線至sqlite檔案，若無該檔案sql，則會建立一個新的\n",
    "conn = sql.connect(\"../data/twse.db\")\n",
    "#將Dataframe資料寫入sql檔中的'demo1'表中，無該資料表則會自動建立\n",
    "df.to_sql(\"demo1\", conn, if_exists=\"replace\", index=False)"
   ]
  },
  {
   "cell_type": "code",
   "execution_count": null,
   "metadata": {},
   "outputs": [],
   "source": [
    "pd.read_sql_query(\"select * from demo1;\", conn).sort_index(ascending=False).head()"
   ]
  }
 ],
 "metadata": {
  "kernelspec": {
   "display_name": "Python 3",
   "language": "python",
   "name": "python3"
  },
  "language_info": {
   "codemirror_mode": {
    "name": "ipython",
    "version": 3
   },
   "file_extension": ".py",
   "mimetype": "text/x-python",
   "name": "python",
   "nbconvert_exporter": "python",
   "pygments_lexer": "ipython3",
   "version": "3.5.2"
  }
 },
 "nbformat": 4,
 "nbformat_minor": 2
}
