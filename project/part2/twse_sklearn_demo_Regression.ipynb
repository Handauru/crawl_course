{
 "cells": [
  {
   "cell_type": "code",
   "execution_count": 13,
   "metadata": {
    "scrolled": true
   },
   "outputs": [
    {
     "name": "stdout",
     "output_type": "stream",
     "text": [
      "         日期        成交股數           成交金額    開盤價    最高價    最低價    收盤價  漲跌價差  \\\n",
      "0  2017/9/1  17,805,405  3,851,834,126  215.0  217.5  215.0  216.5   0.0   \n",
      "1  2017/9/4  15,053,185  3,273,164,145  216.5  218.0  215.5  217.5   1.0   \n",
      "2  2017/9/5  34,514,275  7,503,488,603  218.0  218.0  216.5  218.0   0.5   \n",
      "3  2017/9/6  28,148,528  6,117,444,609  216.5  218.0  216.0  217.0  -1.0   \n",
      "4  2017/9/7  19,198,540  4,170,321,680  218.0  218.5  216.0  217.0   0.0   \n",
      "\n",
      "    成交筆數  美元／新台幣   人民幣／新台幣    歐元／美元    美元／日幣    英鎊／美元    澳幣／美元    美元／港幣  \\\n",
      "0  6,956  30.156  4.584315  1.18920  110.100  1.29145  0.79360  7.82595   \n",
      "1  8,635  30.101  4.608885  1.18960  109.460  1.29420  0.79560  7.82535   \n",
      "2  7,065  30.070  4.586457  1.18810  109.455  1.29255  0.79635  7.82525   \n",
      "3  6,999  30.105  4.606336  1.19440  108.710  1.30420  0.79910  7.82460   \n",
      "4  6,586  30.062  4.619808  1.19485  109.015  1.30460  0.80015  7.81960   \n",
      "\n",
      "    美元／人民幣    美元／南非幣    紐幣／美元  \n",
      "0  6.57810  12.94610  0.71595  \n",
      "1  6.53110  12.96600  0.71705  \n",
      "2  6.55625  12.97290  0.71775  \n",
      "3  6.53555  12.90365  0.72335  \n",
      "4  6.50720  12.81720  0.71900  \n"
     ]
    }
   ],
   "source": [
    "#讀取資料\n",
    "import pandas as pd\n",
    "import pandas.io.sql as pd_sql\n",
    "import sqlite3 as sql\n",
    "\n",
    "#從CSV讀取\n",
    "df = pd.read_csv('fp_demo3.csv')\n",
    "\n",
    "#從sqLite讀取\n",
    "#conn = sql.connect(\"twse.db\")\n",
    "#df = pd.read_sql_query(\"select * from demo3;\", conn)\n",
    "\n",
    "print(df.head())"
   ]
  },
  {
   "cell_type": "code",
   "execution_count": 61,
   "metadata": {},
   "outputs": [],
   "source": [
    "#定義準備train data方法\n",
    "def regData(x):\n",
    "    #格式化數字\n",
    "    for i, row in x.iterrows():\n",
    "        x.loc[i, '成交股數'] = row['成交股數'].replace(',', '')\n",
    "        x.loc[i, '成交筆數'] = row['成交筆數'].replace(',', '')\n",
    "    #做normalization(第i天資料/i-1天資料)\n",
    "    for i, row in X.iterrows():\n",
    "        if i <= len(X)-2:\n",
    "            x.loc[i, '成交股數'] = int(x.loc[i+1, '成交股數'])/int(x.loc[i, '成交股數'])\n",
    "            x.loc[i, '成交筆數'] = int(x.loc[i+1, '成交筆數'])/int(x.loc[i, '成交筆數'])\n",
    "            x.loc[i, '美元／新台幣'] = x.loc[i+1, '美元／新台幣']/x.loc[i, '美元／新台幣']\n",
    "    return x.head(30) #不取最後一筆\n",
    "\n",
    "#定義LinearRegression對應data\n",
    "def linReg(y):\n",
    "    y.drop(0, axis=0, inplace=True)\n",
    "    y = y.reset_index(drop=True)\n",
    "    return y\n",
    "\n",
    "#定義LogisticRegression對應data\n",
    "def logReg(y):\n",
    "    #將價差=0定義為 1 (漲), 價差<=0定義為 0 (跌)\n",
    "    y.drop(0, axis=0, inplace=True)\n",
    "    y = y.reset_index(drop=True)\n",
    "    for i, row in y.iterrows():\n",
    "        if y.loc[i, '漲跌價差'] == 0:\n",
    "            y.loc[i, '漲跌價差'] = 1\n",
    "        else:\n",
    "            y.loc[i, '漲跌價差'] = 0\n",
    "    return y['漲跌價差']\n",
    "    \n",
    "#取得必要欄位，以前30筆作為training data\n",
    "X = df[['成交股數', '成交筆數', '美元／新台幣']].head(31)\n",
    "X = regData(X)\n",
    "\n",
    "#y = linReg(df[['收盤價']].head(31)) #LinearRegression\n",
    "y = logReg(df[['漲跌價差']].head(31)) #LogisticRegression\n",
    "\n",
    "#分割資料\n",
    "from sklearn.model_selection import train_test_split\n",
    "\n",
    "# Split X and y into X_\n",
    "X_train, X_test, y_train, y_test = train_test_split(X, y, test_size=0.5, random_state=1)"
   ]
  },
  {
   "cell_type": "code",
   "execution_count": 53,
   "metadata": {},
   "outputs": [
    {
     "data": {
      "text/plain": [
       "LogisticRegression(C=1.0, class_weight=None, dual=False, fit_intercept=True,\n",
       "          intercept_scaling=1, max_iter=100, multi_class='ovr', n_jobs=1,\n",
       "          penalty='l2', random_state=None, solver='liblinear', tol=0.0001,\n",
       "          verbose=0, warm_start=False)"
      ]
     },
     "execution_count": 53,
     "metadata": {},
     "output_type": "execute_result"
    }
   ],
   "source": [
    "#建立LinearRegression模型\n",
    "from sklearn.linear_model import LinearRegression, LogisticRegression\n",
    "\n",
    "#regression_model = LinearRegression() #LinearRegression\n",
    "regression_model = LogisticRegression() #LogisticRegression\n",
    "regression_model.fit(X_train, y_train)"
   ]
  },
  {
   "cell_type": "code",
   "execution_count": 54,
   "metadata": {},
   "outputs": [
    {
     "name": "stdout",
     "output_type": "stream",
     "text": [
      "The coefficient for 成交股數 is 0.010982436614916647\n",
      "The coefficient for 成交筆數 is -0.7053547042303494\n",
      "The coefficient for 美元／新台幣 is -0.3072815705648836\n"
     ]
    }
   ],
   "source": [
    "#各data係數\n",
    "for idx, col_name in enumerate(X_train.columns):\n",
    "    print(\"The coefficient for {} is {}\".format(col_name, regression_model.coef_[0][idx]))"
   ]
  },
  {
   "cell_type": "code",
   "execution_count": 55,
   "metadata": {},
   "outputs": [
    {
     "name": "stdout",
     "output_type": "stream",
     "text": [
      "The intercept for our model is -0.303918361823181\n"
     ]
    }
   ],
   "source": [
    "#截距\n",
    "intercept = regression_model.intercept_[0]\n",
    "\n",
    "print(\"The intercept for our model is {}\".format(intercept))"
   ]
  },
  {
   "cell_type": "code",
   "execution_count": 56,
   "metadata": {},
   "outputs": [
    {
     "data": {
      "text/plain": [
       "0.80000000000000004"
      ]
     },
     "execution_count": 56,
     "metadata": {},
     "output_type": "execute_result"
    }
   ],
   "source": [
    "#用training data算準確率\n",
    "predictions = regression_model.predict(X_train)\n",
    "regression_model.score(X_train, y_train)\n",
    "#資料零散程度大且資料量不夠可能造成準確率較低"
   ]
  },
  {
   "cell_type": "code",
   "execution_count": 57,
   "metadata": {},
   "outputs": [
    {
     "data": {
      "text/plain": [
       "0.20000000000000001"
      ]
     },
     "execution_count": 57,
     "metadata": {},
     "output_type": "execute_result"
    }
   ],
   "source": [
    "#用testing data計算平方誤差\n",
    "from sklearn.metrics import mean_squared_error\n",
    "\n",
    "y_predict = regression_model.predict(X_test)\n",
    "regression_model_mse = mean_squared_error(y_predict, y_test)\n",
    "regression_model_mse"
   ]
  },
  {
   "cell_type": "code",
   "execution_count": 58,
   "metadata": {},
   "outputs": [
    {
     "data": {
      "text/plain": [
       "0.4472135954999579"
      ]
     },
     "execution_count": 58,
     "metadata": {},
     "output_type": "execute_result"
    }
   ],
   "source": [
    "#將誤差開平方根\n",
    "import math\n",
    "\n",
    "math.sqrt(regression_model_mse)"
   ]
  },
  {
   "cell_type": "code",
   "execution_count": 59,
   "metadata": {
    "scrolled": true
   },
   "outputs": [
    {
     "data": {
      "text/plain": [
       "0"
      ]
     },
     "execution_count": 59,
     "metadata": {},
     "output_type": "execute_result"
    }
   ],
   "source": [
    "#使用未引入data做測試(取任兩相鄰資料做normalize)\n",
    "t1 = df.loc[df['日期'] == '2017/10/17'][['成交股數', '成交筆數', '美元／新台幣']]\n",
    "t2 = df.loc[df['日期'] == '2017/10/16'][['成交股數', '成交筆數', '美元／新台幣']]\n",
    "\n",
    "#重設資料index\n",
    "t1.reset_index(drop=True,inplace=True)\n",
    "t2.reset_index(drop=True,inplace=True)\n",
    "\n",
    "#格式化資料\n",
    "t1.loc[0, '成交股數'] = int(t1.loc[0, '成交股數'].replace(',', ''))/int(t2.loc[0, '成交股數'].replace(',', ''))\n",
    "t1.loc[0, '成交筆數'] = int(t1.loc[0, '成交筆數'].replace(',', ''))/int(t2.loc[0, '成交筆數'].replace(',', ''))\n",
    "t1.loc[0, '美元／新台幣'] = float(t1.loc[0, '美元／新台幣'])/float(t2.loc[0, '美元／新台幣'])\n",
    "\n",
    "#預測結果\n",
    "int(regression_model.predict([t1.loc[0].tolist()]))"
   ]
  },
  {
   "cell_type": "code",
   "execution_count": null,
   "metadata": {},
   "outputs": [],
   "source": []
  }
 ],
 "metadata": {
  "kernelspec": {
   "display_name": "Python 3",
   "language": "python",
   "name": "python3"
  },
  "language_info": {
   "codemirror_mode": {
    "name": "ipython",
    "version": 3
   },
   "file_extension": ".py",
   "mimetype": "text/x-python",
   "name": "python",
   "nbconvert_exporter": "python",
   "pygments_lexer": "ipython3",
   "version": "3.5.2"
  }
 },
 "nbformat": 4,
 "nbformat_minor": 2
}
