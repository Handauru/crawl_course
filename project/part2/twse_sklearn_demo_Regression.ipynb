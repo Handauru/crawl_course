{
 "cells": [
  {
   "cell_type": "code",
   "execution_count": 10,
   "metadata": {
    "scrolled": true
   },
   "outputs": [
    {
     "data": {
      "text/html": [
       "<div>\n",
       "<style scoped>\n",
       "    .dataframe tbody tr th:only-of-type {\n",
       "        vertical-align: middle;\n",
       "    }\n",
       "\n",
       "    .dataframe tbody tr th {\n",
       "        vertical-align: top;\n",
       "    }\n",
       "\n",
       "    .dataframe thead th {\n",
       "        text-align: right;\n",
       "    }\n",
       "</style>\n",
       "<table border=\"1\" class=\"dataframe\">\n",
       "  <thead>\n",
       "    <tr style=\"text-align: right;\">\n",
       "      <th></th>\n",
       "      <th>日期</th>\n",
       "      <th>成交股數</th>\n",
       "      <th>成交金額</th>\n",
       "      <th>開盤價</th>\n",
       "      <th>最高價</th>\n",
       "      <th>最低價</th>\n",
       "      <th>收盤價</th>\n",
       "      <th>漲跌價差</th>\n",
       "      <th>成交筆數</th>\n",
       "      <th>美元／新台幣</th>\n",
       "      <th>人民幣／新台幣</th>\n",
       "      <th>歐元／美元</th>\n",
       "      <th>美元／日幣</th>\n",
       "      <th>英鎊／美元</th>\n",
       "      <th>澳幣／美元</th>\n",
       "      <th>美元／港幣</th>\n",
       "      <th>美元／人民幣</th>\n",
       "      <th>美元／南非幣</th>\n",
       "      <th>紐幣／美元</th>\n",
       "    </tr>\n",
       "  </thead>\n",
       "  <tbody>\n",
       "    <tr>\n",
       "      <th>40</th>\n",
       "      <td>2017/10/31</td>\n",
       "      <td>22,582,013</td>\n",
       "      <td>5,497,062,659</td>\n",
       "      <td>243.5</td>\n",
       "      <td>245.0</td>\n",
       "      <td>241.5</td>\n",
       "      <td>243.0</td>\n",
       "      <td>0.0</td>\n",
       "      <td>8,176</td>\n",
       "      <td>30.170</td>\n",
       "      <td>4.551175</td>\n",
       "      <td>1.16440</td>\n",
       "      <td>113.065</td>\n",
       "      <td>1.32145</td>\n",
       "      <td>0.76790</td>\n",
       "      <td>7.80160</td>\n",
       "      <td>6.62905</td>\n",
       "      <td>14.06155</td>\n",
       "      <td>0.68485</td>\n",
       "    </tr>\n",
       "    <tr>\n",
       "      <th>39</th>\n",
       "      <td>2017/10/30</td>\n",
       "      <td>30,241,990</td>\n",
       "      <td>7,358,619,170</td>\n",
       "      <td>242.0</td>\n",
       "      <td>245.0</td>\n",
       "      <td>241.5</td>\n",
       "      <td>243.0</td>\n",
       "      <td>4.0</td>\n",
       "      <td>10,609</td>\n",
       "      <td>30.205</td>\n",
       "      <td>4.542892</td>\n",
       "      <td>1.16270</td>\n",
       "      <td>113.700</td>\n",
       "      <td>1.31630</td>\n",
       "      <td>0.76745</td>\n",
       "      <td>7.79985</td>\n",
       "      <td>6.64885</td>\n",
       "      <td>14.08700</td>\n",
       "      <td>0.68515</td>\n",
       "    </tr>\n",
       "    <tr>\n",
       "      <th>38</th>\n",
       "      <td>2017/10/27</td>\n",
       "      <td>18,040,541</td>\n",
       "      <td>4,304,460,160</td>\n",
       "      <td>237.5</td>\n",
       "      <td>240.0</td>\n",
       "      <td>237.5</td>\n",
       "      <td>239.0</td>\n",
       "      <td>3.0</td>\n",
       "      <td>5,715</td>\n",
       "      <td>30.277</td>\n",
       "      <td>4.550936</td>\n",
       "      <td>1.16310</td>\n",
       "      <td>114.110</td>\n",
       "      <td>1.30750</td>\n",
       "      <td>0.76415</td>\n",
       "      <td>7.80370</td>\n",
       "      <td>6.65290</td>\n",
       "      <td>14.30395</td>\n",
       "      <td>0.68355</td>\n",
       "    </tr>\n",
       "    <tr>\n",
       "      <th>37</th>\n",
       "      <td>2017/10/26</td>\n",
       "      <td>12,959,717</td>\n",
       "      <td>3,069,618,429</td>\n",
       "      <td>237.0</td>\n",
       "      <td>238.0</td>\n",
       "      <td>236.0</td>\n",
       "      <td>236.0</td>\n",
       "      <td>-2.0</td>\n",
       "      <td>4,947</td>\n",
       "      <td>30.229</td>\n",
       "      <td>4.554422</td>\n",
       "      <td>1.18175</td>\n",
       "      <td>113.760</td>\n",
       "      <td>1.32375</td>\n",
       "      <td>0.76870</td>\n",
       "      <td>7.80165</td>\n",
       "      <td>6.63730</td>\n",
       "      <td>14.19160</td>\n",
       "      <td>0.68740</td>\n",
       "    </tr>\n",
       "    <tr>\n",
       "      <th>36</th>\n",
       "      <td>2017/10/25</td>\n",
       "      <td>17,205,187</td>\n",
       "      <td>4,099,505,436</td>\n",
       "      <td>238.5</td>\n",
       "      <td>239.0</td>\n",
       "      <td>237.5</td>\n",
       "      <td>238.0</td>\n",
       "      <td>0.0</td>\n",
       "      <td>5,808</td>\n",
       "      <td>30.266</td>\n",
       "      <td>4.557152</td>\n",
       "      <td>1.17670</td>\n",
       "      <td>113.860</td>\n",
       "      <td>1.31320</td>\n",
       "      <td>0.77135</td>\n",
       "      <td>7.80330</td>\n",
       "      <td>6.64145</td>\n",
       "      <td>13.73020</td>\n",
       "      <td>0.68910</td>\n",
       "    </tr>\n",
       "  </tbody>\n",
       "</table>\n",
       "</div>"
      ],
      "text/plain": [
       "            日期        成交股數           成交金額    開盤價    最高價    最低價    收盤價  漲跌價差  \\\n",
       "40  2017/10/31  22,582,013  5,497,062,659  243.5  245.0  241.5  243.0   0.0   \n",
       "39  2017/10/30  30,241,990  7,358,619,170  242.0  245.0  241.5  243.0   4.0   \n",
       "38  2017/10/27  18,040,541  4,304,460,160  237.5  240.0  237.5  239.0   3.0   \n",
       "37  2017/10/26  12,959,717  3,069,618,429  237.0  238.0  236.0  236.0  -2.0   \n",
       "36  2017/10/25  17,205,187  4,099,505,436  238.5  239.0  237.5  238.0   0.0   \n",
       "\n",
       "      成交筆數  美元／新台幣   人民幣／新台幣    歐元／美元    美元／日幣    英鎊／美元    澳幣／美元    美元／港幣  \\\n",
       "40   8,176  30.170  4.551175  1.16440  113.065  1.32145  0.76790  7.80160   \n",
       "39  10,609  30.205  4.542892  1.16270  113.700  1.31630  0.76745  7.79985   \n",
       "38   5,715  30.277  4.550936  1.16310  114.110  1.30750  0.76415  7.80370   \n",
       "37   4,947  30.229  4.554422  1.18175  113.760  1.32375  0.76870  7.80165   \n",
       "36   5,808  30.266  4.557152  1.17670  113.860  1.31320  0.77135  7.80330   \n",
       "\n",
       "     美元／人民幣    美元／南非幣    紐幣／美元  \n",
       "40  6.62905  14.06155  0.68485  \n",
       "39  6.64885  14.08700  0.68515  \n",
       "38  6.65290  14.30395  0.68355  \n",
       "37  6.63730  14.19160  0.68740  \n",
       "36  6.64145  13.73020  0.68910  "
      ]
     },
     "execution_count": 10,
     "metadata": {},
     "output_type": "execute_result"
    }
   ],
   "source": [
    "#讀取資料\n",
    "import pandas as pd\n",
    "import pandas.io.sql as pd_sql\n",
    "import sqlite3 as sql\n",
    "\n",
    "#從CSV讀取\n",
    "df = pd.read_csv('../data/fp_demo3.csv')\n",
    "\n",
    "#從sqLite讀取\n",
    "#conn = sql.connect(\"../data/twse.db\")\n",
    "#df = pd.read_sql_query(\"select * from demo3;\", conn)\n",
    "\n",
    "df.sort_index(ascending=False).head()"
   ]
  },
  {
   "cell_type": "code",
   "execution_count": 2,
   "metadata": {},
   "outputs": [],
   "source": [
    "#定義準備train data方法\n",
    "def regData(x):\n",
    "    #格式化數字\n",
    "    for i, row in x.iterrows():\n",
    "        x.loc[i, '成交股數'] = row['成交股數'].replace(',', '')\n",
    "        x.loc[i, '成交筆數'] = row['成交筆數'].replace(',', '')\n",
    "    #做normalization(第i天資料/i-1天資料)\n",
    "    for i, row in X.iterrows():\n",
    "        if i <= len(X)-2:\n",
    "            x.loc[i, '成交股數'] = int(x.loc[i+1, '成交股數'])/int(x.loc[i, '成交股數'])\n",
    "            x.loc[i, '成交筆數'] = int(x.loc[i+1, '成交筆數'])/int(x.loc[i, '成交筆數'])\n",
    "            x.loc[i, '美元／新台幣'] = x.loc[i+1, '美元／新台幣']/x.loc[i, '美元／新台幣']\n",
    "    return x.head(30) #不取最後一筆\n",
    "\n",
    "#定義LinearRegression對應data\n",
    "def linReg(y):\n",
    "    y.drop(0, axis=0, inplace=True)\n",
    "    y = y.reset_index(drop=True)\n",
    "    return y\n",
    "\n",
    "#定義LogisticRegression對應data\n",
    "def logReg(y):\n",
    "    #將價差=0定義為 1 (漲), 價差<=0定義為 0 (跌)\n",
    "    y.drop(0, axis=0, inplace=True)\n",
    "    y = y.reset_index(drop=True)\n",
    "    for i, row in y.iterrows():\n",
    "        if y.loc[i, '漲跌價差'] >= 0:\n",
    "            y.loc[i, '漲跌價差'] = 1\n",
    "        else:\n",
    "            y.loc[i, '漲跌價差'] = 0\n",
    "    return y['漲跌價差']\n",
    "    \n",
    "#取得必要欄位，以前30筆作為training data\n",
    "X = df[['成交股數', '成交筆數', '美元／新台幣']].head(31)\n",
    "X = regData(X)\n",
    "\n",
    "#y = linReg(df[['收盤價']].head(31)) #LinearRegression\n",
    "y = logReg(df[['漲跌價差']].head(31)) #LogisticRegression\n",
    "\n",
    "#分割資料\n",
    "from sklearn.model_selection import train_test_split\n",
    "\n",
    "# Split X and y into X_\n",
    "X_train, X_test, y_train, y_test = train_test_split(X, y, test_size=0.25, random_state=1)"
   ]
  },
  {
   "cell_type": "code",
   "execution_count": 3,
   "metadata": {},
   "outputs": [
    {
     "data": {
      "text/plain": [
       "LogisticRegression(C=1.0, class_weight=None, dual=False, fit_intercept=True,\n",
       "          intercept_scaling=1, max_iter=100, multi_class='ovr', n_jobs=1,\n",
       "          penalty='l2', random_state=None, solver='liblinear', tol=0.0001,\n",
       "          verbose=0, warm_start=False)"
      ]
     },
     "execution_count": 3,
     "metadata": {},
     "output_type": "execute_result"
    }
   ],
   "source": [
    "#建立LinearRegression模型\n",
    "from sklearn.linear_model import LinearRegression, LogisticRegression\n",
    "\n",
    "#regression_model = LinearRegression() #LinearRegression\n",
    "regression_model = LogisticRegression() #LogisticRegression\n",
    "regression_model.fit(X_train, y_train)"
   ]
  },
  {
   "cell_type": "code",
   "execution_count": 4,
   "metadata": {},
   "outputs": [
    {
     "name": "stdout",
     "output_type": "stream",
     "text": [
      "The coefficient for 成交股數 is 0.6415420555032795\n",
      "The coefficient for 成交筆數 is 0.17409836326558795\n",
      "The coefficient for 美元／新台幣 is -0.16997536054927276\n"
     ]
    }
   ],
   "source": [
    "#各data係數\n",
    "for idx, col_name in enumerate(X_train.columns):\n",
    "    print(\"The coefficient for {} is {}\".format(col_name, regression_model.coef_[0][idx]))"
   ]
  },
  {
   "cell_type": "code",
   "execution_count": 5,
   "metadata": {},
   "outputs": [
    {
     "name": "stdout",
     "output_type": "stream",
     "text": [
      "The intercept for our model is -0.1605205605641356\n"
     ]
    }
   ],
   "source": [
    "#截距\n",
    "intercept = regression_model.intercept_[0]\n",
    "\n",
    "print(\"The intercept for our model is {}\".format(intercept))"
   ]
  },
  {
   "cell_type": "code",
   "execution_count": 6,
   "metadata": {},
   "outputs": [
    {
     "name": "stdout",
     "output_type": "stream",
     "text": [
      "[ 1.  1.  1.  1.  1.  0.  1.  1.]\n"
     ]
    },
    {
     "data": {
      "text/plain": [
       "0.75"
      ]
     },
     "execution_count": 6,
     "metadata": {},
     "output_type": "execute_result"
    }
   ],
   "source": [
    "#使用testing data準確率\n",
    "predictions = regression_model.predict(X_test)\n",
    "#印出testing data之預測結果\n",
    "print(predictions)\n",
    "#準確率\n",
    "regression_model.score(X_test, y_test)"
   ]
  },
  {
   "cell_type": "code",
   "execution_count": null,
   "metadata": {},
   "outputs": [],
   "source": []
  }
 ],
 "metadata": {
  "kernelspec": {
   "display_name": "Python 3",
   "language": "python",
   "name": "python3"
  },
  "language_info": {
   "codemirror_mode": {
    "name": "ipython",
    "version": 3
   },
   "file_extension": ".py",
   "mimetype": "text/x-python",
   "name": "python",
   "nbconvert_exporter": "python",
   "pygments_lexer": "ipython3",
   "version": "3.5.2"
  }
 },
 "nbformat": 4,
 "nbformat_minor": 2
}
